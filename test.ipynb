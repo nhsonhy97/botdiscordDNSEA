{
 "cells": [
  {
   "cell_type": "code",
   "execution_count": 1,
   "metadata": {},
   "outputs": [],
   "source": [
    "import requests\n",
    "url_all = 'https://sea.dragonnest.com/news/notice/all'"
   ]
  },
  {
   "cell_type": "code",
   "execution_count": 2,
   "metadata": {},
   "outputs": [],
   "source": [
    "a = requests.get('https://sea.dragonnest.com/news/notice/all')"
   ]
  },
  {
   "cell_type": "code",
   "execution_count": 3,
   "metadata": {},
   "outputs": [],
   "source": [
    "from bs4 import BeautifulSoup\n",
    "S = BeautifulSoup(a.text, 'lxml')"
   ]
  },
  {
   "cell_type": "code",
   "execution_count": 44,
   "metadata": {},
   "outputs": [],
   "source": [
    "a = S.find_all(\"table\", {\"class\": \"bbs_list\"})"
   ]
  },
  {
   "cell_type": "code",
   "execution_count": 4,
   "metadata": {},
   "outputs": [],
   "source": [
    "a = S.find_all(\"td\", {\"class\": \"num\"})"
   ]
  },
  {
   "cell_type": "code",
   "execution_count": 5,
   "metadata": {},
   "outputs": [
    {
     "name": "stdout",
     "output_type": "stream",
     "text": [
      "1128\n",
      "1127\n",
      "1126\n",
      "1125\n",
      "1123\n",
      "1122\n",
      "1121\n"
     ]
    }
   ],
   "source": [
    "for d in a:\n",
    "    print(d.text)"
   ]
  },
  {
   "cell_type": "code",
   "execution_count": null,
   "metadata": {},
   "outputs": [],
   "source": [
    "def req_url_roll(num):\n",
    "    url_roll = f\"https://sea.dragonnest.com/news/notice/all/{num}\"\n",
    "    req = requests.get(url=url_roll)\n",
    "    soup = BeautifulSoup(req.text, 'lxml')\n",
    "    return soup.find_all(\"div\", {\"class\": \"cont\"})[0]\n",
    "\n",
    "def my_soup(soup):\n",
    "    content = soup.text\n",
    "    content = content.replace(\"\\xa0\", \"\")\n",
    "    content = content.replace(\"\\n\\n\\n\\n\", \"\\n\\n\")\n",
    "    content = content.replace(\"\\n\\n\\n\", \"\\n\\n\")\n",
    "    return content[2:-1]\n",
    "my_soup(req_url_roll(\"1128\"))"
   ]
  },
  {
   "cell_type": "code",
   "execution_count": null,
   "metadata": {},
   "outputs": [],
   "source": [
    "print(req_url_roll(\"1122\"))"
   ]
  },
  {
   "cell_type": "code",
   "execution_count": 18,
   "metadata": {},
   "outputs": [
    {
     "data": {
      "text/plain": [
       "['1128', '1127', '1126', '1125', '1123', '1122', '1121']"
      ]
     },
     "execution_count": 18,
     "metadata": {},
     "output_type": "execute_result"
    }
   ],
   "source": [
    "def myreq(url):\n",
    "    req = requests.get(url)\n",
    "    return BeautifulSoup(req.text, 'lxml')\n",
    "def notive_all():\n",
    "    url = 'https://sea.dragonnest.com/news/notice/all'\n",
    "    soup = myreq(url)\n",
    "    return [num.text for num in soup.find_all(\"td\", {\"class\": \"num\"})]\n",
    "\n",
    "notive_all()"
   ]
  },
  {
   "cell_type": "code",
   "execution_count": 12,
   "metadata": {},
   "outputs": [
    {
     "data": {
      "text/plain": [
       "[0, 1, 2, 3, 4, 5, 6, 7, 8, 9]"
      ]
     },
     "execution_count": 12,
     "metadata": {},
     "output_type": "execute_result"
    }
   ],
   "source": [
    "[x for x in range(10)]"
   ]
  },
  {
   "cell_type": "code",
   "execution_count": null,
   "metadata": {},
   "outputs": [],
   "source": []
  }
 ],
 "metadata": {
  "kernelspec": {
   "display_name": ".venv",
   "language": "python",
   "name": "python3"
  },
  "language_info": {
   "codemirror_mode": {
    "name": "ipython",
    "version": 3
   },
   "file_extension": ".py",
   "mimetype": "text/x-python",
   "name": "python",
   "nbconvert_exporter": "python",
   "pygments_lexer": "ipython3",
   "version": "3.7.7"
  }
 },
 "nbformat": 4,
 "nbformat_minor": 2
}
